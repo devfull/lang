{
  "nbformat": 4,
  "nbformat_minor": 0,
  "metadata": {
    "colab": {
      "name": "method_chaining.ipynb",
      "provenance": [],
      "collapsed_sections": [],
      "toc_visible": true,
      "include_colab_link": true
    },
    "kernelspec": {
      "name": "python3",
      "display_name": "Python 3"
    }
  },
  "cells": [
    {
      "cell_type": "markdown",
      "metadata": {
        "id": "view-in-github",
        "colab_type": "text"
      },
      "source": [
        "<a href=\"https://colab.research.google.com/github/devfull/lang/blob/main/python/colab/method_chaining.ipynb\" target=\"_parent\"><img src=\"https://colab.research.google.com/assets/colab-badge.svg\" alt=\"Open In Colab\"/></a>"
      ]
    },
    {
      "cell_type": "markdown",
      "metadata": {
        "id": "GxJbunAFNG1y"
      },
      "source": [
        "# Advanced method chaining"
      ]
    },
    {
      "cell_type": "markdown",
      "metadata": {
        "id": "BqApQp36O0-N"
      },
      "source": [
        "SmallTalk has a separate construct for chaining methods with the `;` operator. With this feature, it is possible to send multiple messages to the same object.\n",
        "\n",
        "`#method-chaining` "
      ]
    },
    {
      "cell_type": "markdown",
      "metadata": {
        "id": "1y5n1m6ddqyX"
      },
      "source": [
        "## Basic chaining with `self`"
      ]
    },
    {
      "cell_type": "markdown",
      "metadata": {
        "id": "2beWWfl7dwWN"
      },
      "source": [
        "Like in most common languages, basic method chaining in Python is done by returning `self`."
      ]
    },
    {
      "cell_type": "code",
      "metadata": {
        "colab": {
          "base_uri": "https://localhost:8080/"
        },
        "id": "djyT2aRMNUGN",
        "outputId": "a2f4d274-77a4-4ee7-b31d-65b18e0722f8"
      },
      "source": [
        "class X:\n",
        "  def a(self):\n",
        "    print('a');\n",
        "    return self;\n",
        "  def b(self):\n",
        "    print('b');\n",
        "    return self;\n",
        "\n",
        "x = X().a().b()"
      ],
      "execution_count": null,
      "outputs": [
        {
          "output_type": "stream",
          "text": [
            "a\n",
            "b\n"
          ],
          "name": "stdout"
        }
      ]
    },
    {
      "cell_type": "markdown",
      "metadata": {
        "id": "SBjXorGTYip-"
      },
      "source": [
        "Chained methods are unable to return a meaningful value. This basic chaining strategy prevent capturing the effect of individual method calls."
      ]
    },
    {
      "cell_type": "code",
      "metadata": {
        "colab": {
          "base_uri": "https://localhost:8080/"
        },
        "id": "8WTuQpB8V0sv",
        "outputId": "e3222e50-1bfc-409a-a73a-157ba19521d0"
      },
      "source": [
        "class X:\n",
        "  def a(self):\n",
        "    print('#', '#', sep='\\n');\n",
        "    return self;\n",
        "  def b(self):\n",
        "    print('#');\n",
        "    return self;\n",
        "\n",
        "x = X().a().b()"
      ],
      "execution_count": null,
      "outputs": [
        {
          "output_type": "stream",
          "text": [
            "#\n",
            "#\n",
            "#\n"
          ],
          "name": "stdout"
        }
      ]
    }
  ]
}