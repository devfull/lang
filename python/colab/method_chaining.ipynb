{
  "nbformat": 4,
  "nbformat_minor": 0,
  "metadata": {
    "colab": {
      "name": "method_chaining.ipynb",
      "provenance": [],
      "collapsed_sections": [],
      "toc_visible": true,
      "include_colab_link": true
    },
    "kernelspec": {
      "name": "python3",
      "display_name": "Python 3"
    }
  },
  "cells": [
    {
      "cell_type": "markdown",
      "metadata": {
        "id": "view-in-github",
        "colab_type": "text"
      },
      "source": [
        "<a href=\"https://colab.research.google.com/github/devfull/lang/blob/main/python/colab/method_chaining.ipynb\" target=\"_parent\"><img src=\"https://colab.research.google.com/assets/colab-badge.svg\" alt=\"Open In Colab\"/></a>"
      ]
    },
    {
      "cell_type": "markdown",
      "metadata": {
        "id": "GxJbunAFNG1y"
      },
      "source": [
        "# Advanced method chaining"
      ]
    },
    {
      "cell_type": "markdown",
      "metadata": {
        "id": "BqApQp36O0-N"
      },
      "source": [
        "SmallTalk has a separate construct for chaining methods with the `;` operator. With this feature, it is possible to send multiple messages to the same object. "
      ]
    },
    {
      "cell_type": "markdown",
      "metadata": {
        "id": "kD7w3h_HBuEN"
      },
      "source": [
        "`#method_chaining` `#decorator` `#iterator` `#lambda`"
      ]
    },
    {
      "cell_type": "markdown",
      "metadata": {
        "id": "1y5n1m6ddqyX"
      },
      "source": [
        "## Basic chaining with `self`"
      ]
    },
    {
      "cell_type": "markdown",
      "metadata": {
        "id": "2beWWfl7dwWN"
      },
      "source": [
        "Like in most common languages, basic method chaining in Python is done by returning `self`."
      ]
    },
    {
      "cell_type": "code",
      "metadata": {
        "colab": {
          "base_uri": "https://localhost:8080/"
        },
        "id": "djyT2aRMNUGN",
        "outputId": "eb6bab29-be25-421f-fc00-b878fea9508d"
      },
      "source": [
        "class X:\n",
        "\n",
        "  def a(self):\n",
        "    print('a')\n",
        "    return self\n",
        "\n",
        "  def b(self):\n",
        "    print('b')\n",
        "    return self\n",
        "\n",
        "\n",
        "_ = X().a().b()"
      ],
      "execution_count": 1,
      "outputs": [
        {
          "output_type": "stream",
          "text": [
            "a\n",
            "b\n"
          ],
          "name": "stdout"
        }
      ]
    },
    {
      "cell_type": "markdown",
      "metadata": {
        "id": "SBjXorGTYip-"
      },
      "source": [
        "Chained methods are unable to return a meaningful value. This basic chaining strategy prevent capturing the effect of individual method calls."
      ]
    },
    {
      "cell_type": "code",
      "metadata": {
        "colab": {
          "base_uri": "https://localhost:8080/"
        },
        "id": "8WTuQpB8V0sv",
        "outputId": "318e54bc-8f1e-42d0-ebb5-3b5161bb032c"
      },
      "source": [
        "class X:\n",
        "\n",
        "  def a(self):\n",
        "    print('#', '#', sep='\\n')\n",
        "    return self\n",
        "\n",
        "  def b(self):\n",
        "    print('#')\n",
        "    return self\n",
        "\n",
        "\n",
        "_ = X().a().b()"
      ],
      "execution_count": 2,
      "outputs": [
        {
          "output_type": "stream",
          "text": [
            "#\n",
            "#\n",
            "#\n"
          ],
          "name": "stdout"
        }
      ]
    },
    {
      "cell_type": "markdown",
      "metadata": {
        "id": "5mY7SWkqeWyD"
      },
      "source": [
        "## Capturing side effect\n"
      ]
    },
    {
      "cell_type": "markdown",
      "metadata": {
        "id": "l31ZlDW8gPVr"
      },
      "source": [
        "Instance variables are used to store side effects of method calls."
      ]
    },
    {
      "cell_type": "code",
      "metadata": {
        "colab": {
          "base_uri": "https://localhost:8080/"
        },
        "id": "0fRo6PQZctQy",
        "outputId": "3a832a30-b8a6-4f83-b4a3-5907d03cb874"
      },
      "source": [
        "class X:\n",
        "\n",
        "  def __init__(self):\n",
        "    self.stdout = []\n",
        "\n",
        "  def a(self):\n",
        "    self.stdout.extend([{'a':0}])\n",
        "    return self\n",
        "\n",
        "  def b(self):\n",
        "    self.stdout.extend([{'b':0}])\n",
        "    return self\n",
        "\n",
        "\n",
        "X().a().b().stdout"
      ],
      "execution_count": 3,
      "outputs": [
        {
          "output_type": "execute_result",
          "data": {
            "text/plain": [
              "[{'a': 0}, {'b': 0}]"
            ]
          },
          "metadata": {
            "tags": []
          },
          "execution_count": 3
        }
      ]
    },
    {
      "cell_type": "markdown",
      "metadata": {
        "id": "sYPet8T_iqsU"
      },
      "source": [
        "## Running commands"
      ]
    },
    {
      "cell_type": "markdown",
      "metadata": {
        "id": "fT-GDaAGkMKX"
      },
      "source": [
        "The `subprocess` module can run a command described by a list of arguments. A class could have methods that aggregate thoses instructions and an additional method that run the command built. This pattern is effective when it is possible to run multiple small commands into a single one."
      ]
    },
    {
      "cell_type": "code",
      "metadata": {
        "colab": {
          "base_uri": "https://localhost:8080/",
          "height": 35
        },
        "id": "KZWwSnGEf4lF",
        "outputId": "2a108690-4852-4438-9808-e94d5b3e2cbd"
      },
      "source": [
        "import subprocess\n",
        "\n",
        "\n",
        "class Echo:\n",
        "\n",
        "  def __init__(self):\n",
        "    self.instructions = []\n",
        "\n",
        "  def run(self):\n",
        "    return subprocess.run(['echo', '-n'] + self.instructions, stdout=subprocess.PIPE, universal_newlines=True)\n",
        "\n",
        "  def add(self,text):\n",
        "    self.instructions.extend([text])\n",
        "    return self\n",
        "\n",
        "\n",
        "Echo().add('a').add('b').run().stdout"
      ],
      "execution_count": 4,
      "outputs": [
        {
          "output_type": "execute_result",
          "data": {
            "application/vnd.google.colaboratory.intrinsic+json": {
              "type": "string"
            },
            "text/plain": [
              "'a b'"
            ]
          },
          "metadata": {
            "tags": []
          },
          "execution_count": 4
        }
      ]
    },
    {
      "cell_type": "markdown",
      "metadata": {
        "id": "rXEnzoeeYkqE"
      },
      "source": [
        "When numerous methods extend the instruction list, it is convenient using a decorator for this task. All decorated methods have their return value processed and the decorator takes care of returning `self` for chaining. "
      ]
    },
    {
      "cell_type": "code",
      "metadata": {
        "colab": {
          "base_uri": "https://localhost:8080/"
        },
        "id": "ClYZuSfdY8Ai",
        "outputId": "a45defb7-be41-45ee-b956-4f8d51f22d1b"
      },
      "source": [
        "class Echo:\n",
        "  \n",
        "  def __init__(self):\n",
        "    self.instructions = []\n",
        "\n",
        "  def instruction(function):\n",
        "    def wrapper(self, *args, **kwargs):\n",
        "      self.instructions.extend([function(self, *args, **kwargs)])\n",
        "      return self\n",
        "    return wrapper\n",
        "\n",
        "  @instruction\n",
        "  def upper(self,text):\n",
        "    return text.upper()\n",
        "\n",
        "\n",
        "Echo().upper('foo').upper('bar').instructions"
      ],
      "execution_count": 5,
      "outputs": [
        {
          "output_type": "execute_result",
          "data": {
            "text/plain": [
              "['FOO', 'BAR']"
            ]
          },
          "metadata": {
            "tags": []
          },
          "execution_count": 5
        }
      ]
    },
    {
      "cell_type": "markdown",
      "metadata": {
        "id": "4cynqPgsqBAz"
      },
      "source": [
        "## Parsing `stdout`"
      ]
    },
    {
      "cell_type": "markdown",
      "metadata": {
        "id": "n_jgBGIY6aLY"
      },
      "source": [
        "Some command line tools allow to decribe a complex process as a list of multiple instructions by grouping their arguments. Individual instructions eventually report their effect to `stdout`.\n",
        "\n",
        "It is possible to structure this report by defining a parser. Furthermore, it is possible to link individual instructions with their effect by associating the group of arguments to the corresponding parser component. Parser components can be defined within each instruction method as a callback iterating on `stdout`. Their code is then executed with the `run()` method."
      ]
    },
    {
      "cell_type": "code",
      "metadata": {
        "id": "TWfpq3hyl05M",
        "colab": {
          "base_uri": "https://localhost:8080/"
        },
        "outputId": "1259a5ff-68f6-4e0d-e97d-c9ccb1e7713b"
      },
      "source": [
        "import subprocess\n",
        "\n",
        "\n",
        "class Echo:\n",
        "\n",
        "  def __init__(self):\n",
        "    self.instructions = []\n",
        "    self.parsers = []\n",
        "\n",
        "  def run(self):\n",
        "    proc = subprocess.run(['echo', '-n'] + self.instructions, stdout=subprocess.PIPE, universal_newlines=True)\n",
        "    it = iter(proc.stdout.split(' '))\n",
        "    self.struct = [parser(it) for parser in self.parsers]\n",
        "    self.stdout = proc.stdout\n",
        "    self.stderr = proc.stderr\n",
        "    return self\n",
        "\n",
        "  def instruction(function):\n",
        "    def wrapper(self, *args, **kwargs):\n",
        "      def unpack(*args):\n",
        "        for *instructions, parser in args:\n",
        "          if callable(parser):\n",
        "            self.parsers.append(parser)\n",
        "            self.instructions.extend(*instructions)\n",
        "          else:\n",
        "            self.instructions.extend(*args)\n",
        "      unpack(function(self, *args, **kwargs))\n",
        "      return self\n",
        "    return wrapper\n",
        "  \n",
        "  @instruction\n",
        "  def upper(self,text):\n",
        "   return ([text.upper()], lambda i: {'word' : next(i)})\n",
        "\n",
        "\n",
        "Echo().upper(\"foo\").upper(\"bar\").run().struct"
      ],
      "execution_count": 6,
      "outputs": [
        {
          "output_type": "execute_result",
          "data": {
            "text/plain": [
              "[{'word': 'FOO'}, {'word': 'BAR'}]"
            ]
          },
          "metadata": {
            "tags": []
          },
          "execution_count": 6
        }
      ]
    }
  ]
}