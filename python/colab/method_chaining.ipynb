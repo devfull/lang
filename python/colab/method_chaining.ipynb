{
  "nbformat": 4,
  "nbformat_minor": 0,
  "metadata": {
    "colab": {
      "name": "method_chaining.ipynb",
      "provenance": [],
      "collapsed_sections": [],
      "toc_visible": true,
      "include_colab_link": true
    },
    "kernelspec": {
      "name": "python3",
      "display_name": "Python 3"
    }
  },
  "cells": [
    {
      "cell_type": "markdown",
      "metadata": {
        "id": "view-in-github",
        "colab_type": "text"
      },
      "source": [
        "<a href=\"https://colab.research.google.com/github/devfull/lang/blob/main/python/colab/method_chaining.ipynb\" target=\"_parent\"><img src=\"https://colab.research.google.com/assets/colab-badge.svg\" alt=\"Open In Colab\"/></a>"
      ]
    },
    {
      "cell_type": "markdown",
      "metadata": {
        "id": "GxJbunAFNG1y"
      },
      "source": [
        "# Advanced method chaining"
      ]
    },
    {
      "cell_type": "markdown",
      "metadata": {
        "id": "BqApQp36O0-N"
      },
      "source": [
        "SmallTalk has a separate construct for chaining methods with the `;` operator. With this feature, it is possible to send multiple messages to the same object.\n",
        "\n",
        "`#method-chaining` "
      ]
    },
    {
      "cell_type": "markdown",
      "metadata": {
        "id": "1y5n1m6ddqyX"
      },
      "source": [
        "## Basic chaining with `self`"
      ]
    },
    {
      "cell_type": "markdown",
      "metadata": {
        "id": "2beWWfl7dwWN"
      },
      "source": [
        "Like in most common languages, basic method chaining in Python is done by returning `self`."
      ]
    },
    {
      "cell_type": "code",
      "metadata": {
        "colab": {
          "base_uri": "https://localhost:8080/"
        },
        "id": "djyT2aRMNUGN",
        "outputId": "f81ab5b0-b848-4cb8-dfd5-f07b9b6e3c38"
      },
      "source": [
        "class X:\n",
        "  def a(self):\n",
        "    print('a');\n",
        "    return self;\n",
        "  def b(self):\n",
        "    print('b');\n",
        "    return self;\n",
        "\n",
        "x = X().a().b()"
      ],
      "execution_count": 1,
      "outputs": [
        {
          "output_type": "stream",
          "text": [
            "a\n",
            "b\n"
          ],
          "name": "stdout"
        }
      ]
    },
    {
      "cell_type": "markdown",
      "metadata": {
        "id": "SBjXorGTYip-"
      },
      "source": [
        "Chained methods are unable to return a meaningful value. This basic chaining strategy prevent capturing the effect of individual method calls."
      ]
    },
    {
      "cell_type": "code",
      "metadata": {
        "colab": {
          "base_uri": "https://localhost:8080/"
        },
        "id": "8WTuQpB8V0sv",
        "outputId": "0ee7a2c5-262e-4dce-f634-e3e6730dbea6"
      },
      "source": [
        "class X:\n",
        "  def a(self):\n",
        "    print('#', '#', sep='\\n');\n",
        "    return self;\n",
        "  def b(self):\n",
        "    print('#');\n",
        "    return self;\n",
        "\n",
        "x = X().a().b()"
      ],
      "execution_count": 2,
      "outputs": [
        {
          "output_type": "stream",
          "text": [
            "#\n",
            "#\n",
            "#\n"
          ],
          "name": "stdout"
        }
      ]
    },
    {
      "cell_type": "markdown",
      "metadata": {
        "id": "5mY7SWkqeWyD"
      },
      "source": [
        "## Capturing side effect\n"
      ]
    },
    {
      "cell_type": "markdown",
      "metadata": {
        "id": "l31ZlDW8gPVr"
      },
      "source": [
        "Instance variables are used to store side effects of method calls."
      ]
    },
    {
      "cell_type": "code",
      "metadata": {
        "colab": {
          "base_uri": "https://localhost:8080/"
        },
        "id": "0fRo6PQZctQy",
        "outputId": "06af2e0b-66ac-442b-befb-ed62903768cf"
      },
      "source": [
        "class X:\n",
        "  def __init__(self):\n",
        "    self.stdout = [];\n",
        "  def a(self):\n",
        "    self.stdout.extend([{'a':0}])\n",
        "    return self;\n",
        "  def b(self):\n",
        "    self.stdout.extend([{'b':0}])\n",
        "    return self;\n",
        "\n",
        "X().a().b().stdout"
      ],
      "execution_count": 3,
      "outputs": [
        {
          "output_type": "execute_result",
          "data": {
            "text/plain": [
              "[{'a': 0}, {'b': 0}]"
            ]
          },
          "metadata": {
            "tags": []
          },
          "execution_count": 3
        }
      ]
    },
    {
      "cell_type": "markdown",
      "metadata": {
        "id": "sYPet8T_iqsU"
      },
      "source": [
        "## Running commands"
      ]
    },
    {
      "cell_type": "markdown",
      "metadata": {
        "id": "fT-GDaAGkMKX"
      },
      "source": [
        "The `subprocess` module can run a command described by a list of arguments. A class could have methods that aggregate thoses arguments and an additional method that run the command built. This pattern is effective when it is possible to run multiple small commands into a single one."
      ]
    },
    {
      "cell_type": "code",
      "metadata": {
        "colab": {
          "base_uri": "https://localhost:8080/",
          "height": 35
        },
        "id": "KZWwSnGEf4lF",
        "outputId": "312bba2d-6812-4444-f64f-6f19592cfcf0"
      },
      "source": [
        "import subprocess\n",
        "\n",
        "class Echo:\n",
        "  def __init__(self):\n",
        "    self.args = [];\n",
        "  def run(self):\n",
        "    return subprocess.run(['echo', '-n'] + self.args, stdout=subprocess.PIPE, universal_newlines=True)\n",
        "  def add(self,arg):\n",
        "    self.args.extend([str(arg)]);\n",
        "    return self;\n",
        "\n",
        "Echo().add('a').add('b').run().stdout"
      ],
      "execution_count": 4,
      "outputs": [
        {
          "output_type": "execute_result",
          "data": {
            "application/vnd.google.colaboratory.intrinsic+json": {
              "type": "string"
            },
            "text/plain": [
              "'a b'"
            ]
          },
          "metadata": {
            "tags": []
          },
          "execution_count": 4
        }
      ]
    }
  ]
}