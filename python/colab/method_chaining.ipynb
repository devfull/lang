{
  "nbformat": 4,
  "nbformat_minor": 0,
  "metadata": {
    "colab": {
      "name": "method_chaining.ipynb",
      "provenance": [],
      "collapsed_sections": [],
      "toc_visible": true,
      "include_colab_link": true
    },
    "kernelspec": {
      "name": "python3",
      "display_name": "Python 3"
    }
  },
  "cells": [
    {
      "cell_type": "markdown",
      "metadata": {
        "id": "view-in-github",
        "colab_type": "text"
      },
      "source": [
        "<a href=\"https://colab.research.google.com/github/devfull/lang/blob/main/python/colab/method_chaining.ipynb\" target=\"_parent\"><img src=\"https://colab.research.google.com/assets/colab-badge.svg\" alt=\"Open In Colab\"/></a>"
      ]
    },
    {
      "cell_type": "markdown",
      "metadata": {
        "id": "GxJbunAFNG1y"
      },
      "source": [
        "# Advanced method chaining"
      ]
    },
    {
      "cell_type": "markdown",
      "metadata": {
        "id": "BqApQp36O0-N"
      },
      "source": [
        "SmallTalk has a separate construct for chaining methods with the `;` operator. With this feature, it is possible to send multiple messages to the same object.\n",
        "\n",
        "`#method-chaining` `#decorator` "
      ]
    },
    {
      "cell_type": "markdown",
      "metadata": {
        "id": "1y5n1m6ddqyX"
      },
      "source": [
        "## Basic chaining with `self`"
      ]
    },
    {
      "cell_type": "markdown",
      "metadata": {
        "id": "2beWWfl7dwWN"
      },
      "source": [
        "Like in most common languages, basic method chaining in Python is done by returning `self`."
      ]
    },
    {
      "cell_type": "code",
      "metadata": {
        "colab": {
          "base_uri": "https://localhost:8080/"
        },
        "id": "djyT2aRMNUGN",
        "outputId": "0f32b3c6-ec5c-4e15-f2b1-778889265c48"
      },
      "source": [
        "class X:\n",
        "\n",
        "  def a(self):\n",
        "    print('a')\n",
        "    return self\n",
        "\n",
        "  def b(self):\n",
        "    print('b')\n",
        "    return self\n",
        "\n",
        "\n",
        "_ = X().a().b()"
      ],
      "execution_count": 1,
      "outputs": [
        {
          "output_type": "stream",
          "text": [
            "a\n",
            "b\n"
          ],
          "name": "stdout"
        }
      ]
    },
    {
      "cell_type": "markdown",
      "metadata": {
        "id": "SBjXorGTYip-"
      },
      "source": [
        "Chained methods are unable to return a meaningful value. This basic chaining strategy prevent capturing the effect of individual method calls."
      ]
    },
    {
      "cell_type": "code",
      "metadata": {
        "colab": {
          "base_uri": "https://localhost:8080/"
        },
        "id": "8WTuQpB8V0sv",
        "outputId": "0cfbbfae-4054-474b-f4ec-17c399cd904b"
      },
      "source": [
        "class X:\n",
        "\n",
        "  def a(self):\n",
        "    print('#', '#', sep='\\n')\n",
        "    return self\n",
        "\n",
        "  def b(self):\n",
        "    print('#')\n",
        "    return self\n",
        "\n",
        "\n",
        "_ = X().a().b()"
      ],
      "execution_count": 2,
      "outputs": [
        {
          "output_type": "stream",
          "text": [
            "#\n",
            "#\n",
            "#\n"
          ],
          "name": "stdout"
        }
      ]
    },
    {
      "cell_type": "markdown",
      "metadata": {
        "id": "5mY7SWkqeWyD"
      },
      "source": [
        "## Capturing side effect\n"
      ]
    },
    {
      "cell_type": "markdown",
      "metadata": {
        "id": "l31ZlDW8gPVr"
      },
      "source": [
        "Instance variables are used to store side effects of method calls."
      ]
    },
    {
      "cell_type": "code",
      "metadata": {
        "colab": {
          "base_uri": "https://localhost:8080/"
        },
        "id": "0fRo6PQZctQy",
        "outputId": "5b75162a-4d1f-4c31-a04f-95a5739a0f07"
      },
      "source": [
        "class X:\n",
        "\n",
        "  def __init__(self):\n",
        "    self.stdout = []\n",
        "\n",
        "  def a(self):\n",
        "    self.stdout.extend([{'a':0}])\n",
        "    return self\n",
        "\n",
        "  def b(self):\n",
        "    self.stdout.extend([{'b':0}])\n",
        "    return self\n",
        "\n",
        "\n",
        "X().a().b().stdout"
      ],
      "execution_count": 3,
      "outputs": [
        {
          "output_type": "execute_result",
          "data": {
            "text/plain": [
              "[{'a': 0}, {'b': 0}]"
            ]
          },
          "metadata": {
            "tags": []
          },
          "execution_count": 3
        }
      ]
    },
    {
      "cell_type": "markdown",
      "metadata": {
        "id": "sYPet8T_iqsU"
      },
      "source": [
        "## Running commands"
      ]
    },
    {
      "cell_type": "markdown",
      "metadata": {
        "id": "fT-GDaAGkMKX"
      },
      "source": [
        "The `subprocess` module can run a command described by a list of arguments. A class could have methods that aggregate thoses instructions and an additional method that run the command built. This pattern is effective when it is possible to run multiple small commands into a single one."
      ]
    },
    {
      "cell_type": "code",
      "metadata": {
        "colab": {
          "base_uri": "https://localhost:8080/",
          "height": 35
        },
        "id": "KZWwSnGEf4lF",
        "outputId": "66f42b2d-8cd3-43e7-a0e8-d39c80fd29af"
      },
      "source": [
        "import subprocess\n",
        "\n",
        "\n",
        "class Echo:\n",
        "\n",
        "  def __init__(self):\n",
        "    self.instructions = []\n",
        "\n",
        "  def run(self):\n",
        "    return subprocess.run(['echo', '-n'] + self.instructions, stdout=subprocess.PIPE, universal_newlines=True)\n",
        "\n",
        "  def add(self,text):\n",
        "    self.instructions.extend([text])\n",
        "    return self\n",
        "\n",
        "\n",
        "Echo().add('a').add('b').run().stdout"
      ],
      "execution_count": 4,
      "outputs": [
        {
          "output_type": "execute_result",
          "data": {
            "application/vnd.google.colaboratory.intrinsic+json": {
              "type": "string"
            },
            "text/plain": [
              "'a b'"
            ]
          },
          "metadata": {
            "tags": []
          },
          "execution_count": 4
        }
      ]
    },
    {
      "cell_type": "markdown",
      "metadata": {
        "id": "rXEnzoeeYkqE"
      },
      "source": [
        "When numerous methods extend the instruction list, it is convenient using a decorator for this task. All decorated methods have their return value saved and the decorator takes care of returning `self` for chaining. "
      ]
    },
    {
      "cell_type": "code",
      "metadata": {
        "colab": {
          "base_uri": "https://localhost:8080/"
        },
        "id": "ClYZuSfdY8Ai",
        "outputId": "11e0b83a-5574-4273-c731-8081f270689f"
      },
      "source": [
        "class Echo:\n",
        "  def __init__(self):\n",
        "    self.instructions = []\n",
        "\n",
        "  def instruction(function):\n",
        "    def wrapper(self, *args, **kwargs):\n",
        "      self.instructions.extend(function(self, *args, **kwargs))\n",
        "      return self\n",
        "    return wrapper\n",
        "\n",
        "  @instruction\n",
        "  def upper(self,text):\n",
        "    return text.upper()\n",
        "\n",
        "\n",
        "Echo().upper('a').upper('b').instructions"
      ],
      "execution_count": 5,
      "outputs": [
        {
          "output_type": "execute_result",
          "data": {
            "text/plain": [
              "['A', 'B']"
            ]
          },
          "metadata": {
            "tags": []
          },
          "execution_count": 5
        }
      ]
    }
  ]
}